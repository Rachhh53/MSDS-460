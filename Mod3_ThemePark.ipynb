{
  "nbformat": 4,
  "nbformat_minor": 0,
  "metadata": {
    "colab": {
      "name": "Mod3-ThemePark.ipynb",
      "provenance": [],
      "collapsed_sections": [],
      "authorship_tag": "ABX9TyMo0mlzZlogDqhRlSEA94t1",
      "include_colab_link": true
    },
    "kernelspec": {
      "name": "python3",
      "display_name": "Python 3"
    },
    "language_info": {
      "name": "python"
    }
  },
  "cells": [
    {
      "cell_type": "markdown",
      "metadata": {
        "id": "view-in-github",
        "colab_type": "text"
      },
      "source": [
        "<a href=\"https://colab.research.google.com/github/Rachhh53/MSDS-460/blob/main/Mod3_ThemePark.ipynb\" target=\"_parent\"><img src=\"https://colab.research.google.com/assets/colab-badge.svg\" alt=\"Open In Colab\"/></a>"
      ]
    },
    {
      "cell_type": "code",
      "source": [
        "pip install pulp"
      ],
      "metadata": {
        "colab": {
          "base_uri": "https://localhost:8080/"
        },
        "id": "14On2bCkCfwJ",
        "outputId": "2a93e00e-3c20-4a1d-d8ce-58149b0e3190"
      },
      "execution_count": 2,
      "outputs": [
        {
          "output_type": "stream",
          "name": "stdout",
          "text": [
            "Collecting pulp\n",
            "  Downloading PuLP-2.6.0-py3-none-any.whl (14.2 MB)\n",
            "\u001b[K     |████████████████████████████████| 14.2 MB 8.9 MB/s \n",
            "\u001b[?25hInstalling collected packages: pulp\n",
            "Successfully installed pulp-2.6.0\n"
          ]
        }
      ]
    },
    {
      "cell_type": "code",
      "source": [
        "!apt-get install -y -qq glpk-utils"
      ],
      "metadata": {
        "colab": {
          "base_uri": "https://localhost:8080/"
        },
        "id": "FrXVLYbvHMPt",
        "outputId": "198607b9-b764-4d51-b7b1-4922b1d7de54"
      },
      "execution_count": 26,
      "outputs": [
        {
          "output_type": "stream",
          "name": "stdout",
          "text": [
            "Selecting previously unselected package libsuitesparseconfig5:amd64.\n",
            "(Reading database ... 155229 files and directories currently installed.)\n",
            "Preparing to unpack .../libsuitesparseconfig5_1%3a5.1.2-2_amd64.deb ...\n",
            "Unpacking libsuitesparseconfig5:amd64 (1:5.1.2-2) ...\n",
            "Selecting previously unselected package libamd2:amd64.\n",
            "Preparing to unpack .../libamd2_1%3a5.1.2-2_amd64.deb ...\n",
            "Unpacking libamd2:amd64 (1:5.1.2-2) ...\n",
            "Selecting previously unselected package libcolamd2:amd64.\n",
            "Preparing to unpack .../libcolamd2_1%3a5.1.2-2_amd64.deb ...\n",
            "Unpacking libcolamd2:amd64 (1:5.1.2-2) ...\n",
            "Selecting previously unselected package libglpk40:amd64.\n",
            "Preparing to unpack .../libglpk40_4.65-1_amd64.deb ...\n",
            "Unpacking libglpk40:amd64 (4.65-1) ...\n",
            "Selecting previously unselected package glpk-utils.\n",
            "Preparing to unpack .../glpk-utils_4.65-1_amd64.deb ...\n",
            "Unpacking glpk-utils (4.65-1) ...\n",
            "Setting up libsuitesparseconfig5:amd64 (1:5.1.2-2) ...\n",
            "Setting up libcolamd2:amd64 (1:5.1.2-2) ...\n",
            "Setting up libamd2:amd64 (1:5.1.2-2) ...\n",
            "Setting up libglpk40:amd64 (4.65-1) ...\n",
            "Setting up glpk-utils (4.65-1) ...\n",
            "Processing triggers for libc-bin (2.27-3ubuntu1.3) ...\n",
            "/sbin/ldconfig.real: /usr/local/lib/python3.7/dist-packages/ideep4py/lib/libmkldnn.so.0 is not a symbolic link\n",
            "\n",
            "Processing triggers for man-db (2.8.3-2ubuntu0.1) ...\n"
          ]
        }
      ]
    },
    {
      "cell_type": "code",
      "execution_count": 3,
      "metadata": {
        "id": "k-0vT0x-rzRy"
      },
      "outputs": [],
      "source": [
        "import pulp as p"
      ]
    },
    {
      "cell_type": "code",
      "source": [
        "# define variables\n",
        "S0000 = p.LpVariable(\"S0000\", 0, None)\n",
        "S0400 = p.LpVariable(\"S0400\", 0, None)\n",
        "S0800 = p.LpVariable(\"S0800\", 0, None)\n",
        "S1200 = p.LpVariable(\"S1200\", 0, None)\n",
        "S1600 = p.LpVariable(\"S1600\", 0, None)\n",
        "S2000 = p.LpVariable(\"S2000\", 0, None)"
      ],
      "metadata": {
        "id": "tx1936NcCaML"
      },
      "execution_count": 5,
      "outputs": []
    },
    {
      "cell_type": "code",
      "source": [
        "# defines the problem\n",
        "prob3 = p.LpProblem(\"problem\", p.LpMinimize)"
      ],
      "metadata": {
        "id": "t5hZHL9xCmdm"
      },
      "execution_count": 7,
      "outputs": []
    },
    {
      "cell_type": "code",
      "source": [
        "# define constraints\n",
        "prob3 += S0000 + S2000 >= 90\n",
        "prob3 += S0000 + S0400 >= 215\n",
        "prob3 += S0400 + S0800 >= 250\n",
        "prob3 += S0800 + S1200 >= 165\n",
        "prob3 += S1200 + S1600 >= 300\n",
        "prob3 += S1600 + S2000 >= 125"
      ],
      "metadata": {
        "id": "2v-5V3reCv5g"
      },
      "execution_count": 8,
      "outputs": []
    },
    {
      "cell_type": "code",
      "source": [
        "# define objective function\n",
        "prob3 += S0000 + S0400 + S0800 + S1200 + S1600 + S2000"
      ],
      "metadata": {
        "id": "FAHwD7J3C5Ps"
      },
      "execution_count": 9,
      "outputs": []
    },
    {
      "cell_type": "code",
      "source": [
        "p.pulpTestAll()"
      ],
      "metadata": {
        "colab": {
          "base_uri": "https://localhost:8080/"
        },
        "id": "QZnj8M0nE0yU",
        "outputId": "dcd2eefd-d93c-42de-f4ea-7f23118b5ffc"
      },
      "execution_count": 16,
      "outputs": [
        {
          "output_type": "stream",
          "name": "stderr",
          "text": [
            "ssssssssssssssssssssssssssssssssssssssssssssssssssssssssssssssssssssssssssssssssssssssssssssssssssssssssssssssssssssssssssssssssssssssssssssssssssssssssssssssssssssssssssssssssssssssssssssssssssssssssssssssssssssssssssssssssssssssssssssssssssssssssssssssssssssssssssssssssssssssssssssssssssssssssssssssssssssssssssssssssssssssssssssssssssssssssssssssssssssssssssssssssssssssssssssssssssssssssssssssssssssssssssssssssssssssssssssssssssssssssssssssssssssssssssssssssssssssssssssssssssssssssssssssssssssssssssssssssssssssssssssssssssssssssssssssssssssssssssssssss......."
          ]
        },
        {
          "output_type": "stream",
          "name": "stdout",
          "text": [
            "\t Test that logic put in place for deprecation handling of indexs works\n",
            "\t Testing 'indexs' param continues to work for LpVariable.dicts\n",
            "\t Testing 'indexs' param continues to work for LpVariable.matrix\n",
            "\t Testing 'indices' argument works in LpVariable.dicts\n",
            "\t Testing 'indices' param continues to work for LpVariable.matrix\n",
            "\t Testing invalid status\n",
            "\t Testing continuous LP solution - export dict\n",
            "\t Testing export dict for LP\n",
            "\t Testing export dict MIP\n",
            "\t Testing maximize continuous LP solution\n"
          ]
        },
        {
          "output_type": "stream",
          "name": "stderr",
          "text": [
            ".........."
          ]
        },
        {
          "output_type": "stream",
          "name": "stdout",
          "text": [
            "\t Testing continuous LP solution - export JSON\n",
            "\t Testing continuous LP solution - export solver dict\n",
            "\t Testing continuous LP solution - export solver JSON\n",
            "\t Testing reading MPS files - binary variable, no constraint names\n",
            "\t Testing reading MPS files - integer variable\n",
            "\t Testing reading MPS files - maximize\n",
            "\t Testing invalid var names\n",
            "\t Testing logPath argument\n"
          ]
        },
        {
          "output_type": "stream",
          "name": "stderr",
          "text": [
            "..."
          ]
        },
        {
          "output_type": "stream",
          "name": "stdout",
          "text": [
            "\t Testing makeDict general behavior\n",
            "\t Testing makeDict default value behavior\n",
            "\t Testing measuring optimization time\n"
          ]
        },
        {
          "output_type": "stream",
          "name": "stderr",
          "text": [
            "..........."
          ]
        },
        {
          "output_type": "stream",
          "name": "stdout",
          "text": [
            "\t Testing the availability of the function pulpTestAll\n",
            "\t Testing zero subtraction\n",
            "\t Testing inconsistent lp solution\n",
            "\t Testing continuous LP solution\n",
            "\t Testing maximize continuous LP solution\n",
            "\t Testing unbounded continuous LP solution\n",
            "\t Testing Long Names\n",
            "\t Testing repeated Names\n",
            "\t Testing zero constraint\n",
            "\t Testing zero objective\n",
            "\t Testing LpVariable (not LpAffineExpression) objective\n"
          ]
        },
        {
          "output_type": "stream",
          "name": "stderr",
          "text": [
            ".........."
          ]
        },
        {
          "output_type": "stream",
          "name": "stdout",
          "text": [
            "\t Testing Long lines in LP\n",
            "\t Testing LpAffineExpression divide\n",
            "\t Testing MIP solution\n",
            "\t Testing MIP solution with floats in objective\n",
            "\t Testing Initial value in MIP solution\n",
            "\t Testing fixing value in MIP solution\n",
            "\t Testing MIP relaxation\n",
            "\t Testing feasibility problem (no objective)\n",
            "\t Testing an infeasible problem\n",
            "\t Testing an integer infeasible problem\n"
          ]
        },
        {
          "output_type": "stream",
          "name": "stderr",
          "text": [
            "............"
          ]
        },
        {
          "output_type": "stream",
          "name": "stdout",
          "text": [
            "\t Testing another integer infeasible problem\n",
            "\t Testing column based modelling\n",
            "\t Testing dual variables and slacks reporting\n",
            "\t Testing fractional constraints\n",
            "\t Testing elastic constraints (no change)\n",
            "\t Testing elastic constraints (freebound)\n",
            "\t Testing elastic constraints (penalty unchanged)\n",
            "\t Testing elastic constraints (penalty unbounded)\n",
            "\t Testing timeLimit argument\n"
          ]
        },
        {
          "output_type": "stream",
          "name": "stderr",
          "text": [
            "...ssssssssssssssssssssssssssssssssssssssssssssssssssssssssssssssssssssssssssssssssssssssssssssssssssssssssssssssssssssssssssssssssssssssssssssssssssssssssssssssssssssssssssssssssssssssssssssssssssssssssssssssssssssssssssssssss\n",
            "----------------------------------------------------------------------\n",
            "Ran 840 tests in 15.613s\n",
            "\n",
            "OK (skipped=784)\n"
          ]
        }
      ]
    },
    {
      "cell_type": "code",
      "source": [
        "# solve the problem\n",
        "prob3.writeLP(\"prob3.lp\")\n",
        "prob3.solve(p.GLPK(options=['--ranges', 'prob3.sen']))\n",
        "print (\"Status:\", p.LpStatus[prob3.status])\n",
        "\n",
        "for v in prob3.variables():\n",
        "    print(v.name, \"=\", v.varValue)\n",
        "\n",
        "print (\"Objective\", p.value(prob3.objective))\n",
        "print (\"\")"
      ],
      "metadata": {
        "colab": {
          "base_uri": "https://localhost:8080/"
        },
        "id": "un3yaURuC7GA",
        "outputId": "80de2853-0b19-4633-c18b-3a65ad9146bc"
      },
      "execution_count": 30,
      "outputs": [
        {
          "output_type": "stream",
          "name": "stdout",
          "text": [
            "Status: Optimal\n",
            "S0000 = 90.0\n",
            "S0400 = 125.0\n",
            "S0800 = 125.0\n",
            "S1200 = 175.0\n",
            "S1600 = 125.0\n",
            "S2000 = 0.0\n",
            "Objective 640.0\n",
            "\n"
          ]
        }
      ]
    },
    {
      "cell_type": "code",
      "source": [
        ""
      ],
      "metadata": {
        "id": "JE1nd_YhDBFC"
      },
      "execution_count": null,
      "outputs": []
    }
  ]
}