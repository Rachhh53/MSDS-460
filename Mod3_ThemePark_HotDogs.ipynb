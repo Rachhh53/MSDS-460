{
  "nbformat": 4,
  "nbformat_minor": 0,
  "metadata": {
    "colab": {
      "name": "Mod3-ThemePark-HotDogs.ipynb",
      "provenance": [],
      "collapsed_sections": [],
      "authorship_tag": "ABX9TyOPDaMNHf4aJbyu+s55Uo66",
      "include_colab_link": true
    },
    "kernelspec": {
      "name": "python3",
      "display_name": "Python 3"
    },
    "language_info": {
      "name": "python"
    }
  },
  "cells": [
    {
      "cell_type": "markdown",
      "metadata": {
        "id": "view-in-github",
        "colab_type": "text"
      },
      "source": [
        "<a href=\"https://colab.research.google.com/github/Rachhh53/MSDS-460/blob/main/Mod3_ThemePark_HotDogs.ipynb\" target=\"_parent\"><img src=\"https://colab.research.google.com/assets/colab-badge.svg\" alt=\"Open In Colab\"/></a>"
      ]
    },
    {
      "cell_type": "code",
      "source": [
        "pip install pulp"
      ],
      "metadata": {
        "colab": {
          "base_uri": "https://localhost:8080/"
        },
        "id": "14On2bCkCfwJ",
        "outputId": "2a93e00e-3c20-4a1d-d8ce-58149b0e3190"
      },
      "execution_count": 2,
      "outputs": [
        {
          "output_type": "stream",
          "name": "stdout",
          "text": [
            "Collecting pulp\n",
            "  Downloading PuLP-2.6.0-py3-none-any.whl (14.2 MB)\n",
            "\u001b[K     |████████████████████████████████| 14.2 MB 8.9 MB/s \n",
            "\u001b[?25hInstalling collected packages: pulp\n",
            "Successfully installed pulp-2.6.0\n"
          ]
        }
      ]
    },
    {
      "cell_type": "code",
      "source": [
        "!apt-get install -y -qq glpk-utils"
      ],
      "metadata": {
        "colab": {
          "base_uri": "https://localhost:8080/"
        },
        "id": "FrXVLYbvHMPt",
        "outputId": "198607b9-b764-4d51-b7b1-4922b1d7de54"
      },
      "execution_count": 26,
      "outputs": [
        {
          "output_type": "stream",
          "name": "stdout",
          "text": [
            "Selecting previously unselected package libsuitesparseconfig5:amd64.\n",
            "(Reading database ... 155229 files and directories currently installed.)\n",
            "Preparing to unpack .../libsuitesparseconfig5_1%3a5.1.2-2_amd64.deb ...\n",
            "Unpacking libsuitesparseconfig5:amd64 (1:5.1.2-2) ...\n",
            "Selecting previously unselected package libamd2:amd64.\n",
            "Preparing to unpack .../libamd2_1%3a5.1.2-2_amd64.deb ...\n",
            "Unpacking libamd2:amd64 (1:5.1.2-2) ...\n",
            "Selecting previously unselected package libcolamd2:amd64.\n",
            "Preparing to unpack .../libcolamd2_1%3a5.1.2-2_amd64.deb ...\n",
            "Unpacking libcolamd2:amd64 (1:5.1.2-2) ...\n",
            "Selecting previously unselected package libglpk40:amd64.\n",
            "Preparing to unpack .../libglpk40_4.65-1_amd64.deb ...\n",
            "Unpacking libglpk40:amd64 (4.65-1) ...\n",
            "Selecting previously unselected package glpk-utils.\n",
            "Preparing to unpack .../glpk-utils_4.65-1_amd64.deb ...\n",
            "Unpacking glpk-utils (4.65-1) ...\n",
            "Setting up libsuitesparseconfig5:amd64 (1:5.1.2-2) ...\n",
            "Setting up libcolamd2:amd64 (1:5.1.2-2) ...\n",
            "Setting up libamd2:amd64 (1:5.1.2-2) ...\n",
            "Setting up libglpk40:amd64 (4.65-1) ...\n",
            "Setting up glpk-utils (4.65-1) ...\n",
            "Processing triggers for libc-bin (2.27-3ubuntu1.3) ...\n",
            "/sbin/ldconfig.real: /usr/local/lib/python3.7/dist-packages/ideep4py/lib/libmkldnn.so.0 is not a symbolic link\n",
            "\n",
            "Processing triggers for man-db (2.8.3-2ubuntu0.1) ...\n"
          ]
        }
      ]
    },
    {
      "cell_type": "code",
      "execution_count": 32,
      "metadata": {
        "id": "k-0vT0x-rzRy"
      },
      "outputs": [],
      "source": [
        "from pulp import LpVariable, LpProblem, LpMaximize, LpStatus, value, LpMinimize, GLPK"
      ]
    },
    {
      "cell_type": "code",
      "source": [
        "# define variables\n",
        "S0000 = LpVariable(\"S0000\", 0, None)\n",
        "S0400 = LpVariable(\"S0400\", 0, None)\n",
        "S0800 = LpVariable(\"S0800\", 0, None)\n",
        "S1200 = LpVariable(\"S1200\", 0, None)\n",
        "S1600 = LpVariable(\"S1600\", 0, None)\n",
        "S2000 = LpVariable(\"S2000\", 0, None)"
      ],
      "metadata": {
        "id": "tx1936NcCaML"
      },
      "execution_count": 33,
      "outputs": []
    },
    {
      "cell_type": "code",
      "source": [
        "# defines the problem\n",
        "prob3 = LpProblem(\"problem\", LpMinimize)"
      ],
      "metadata": {
        "id": "t5hZHL9xCmdm"
      },
      "execution_count": 34,
      "outputs": []
    },
    {
      "cell_type": "code",
      "source": [
        "# define constraints\n",
        "prob3 += S0000 + S2000 >= 90\n",
        "prob3 += S0000 + S0400 >= 215\n",
        "prob3 += S0400 + S0800 >= 250\n",
        "prob3 += S0800 + S1200 >= 165\n",
        "prob3 += S1200 + S1600 >= 300\n",
        "prob3 += S1600 + S2000 >= 125"
      ],
      "metadata": {
        "id": "2v-5V3reCv5g"
      },
      "execution_count": 35,
      "outputs": []
    },
    {
      "cell_type": "code",
      "source": [
        "# define objective function\n",
        "prob3 += S0000 + S0400 + S0800 + S1200 + S1600 + S2000"
      ],
      "metadata": {
        "id": "FAHwD7J3C5Ps"
      },
      "execution_count": 36,
      "outputs": []
    },
    {
      "cell_type": "code",
      "source": [
        "#pulpTestAll()"
      ],
      "metadata": {
        "id": "QZnj8M0nE0yU"
      },
      "execution_count": 37,
      "outputs": []
    },
    {
      "cell_type": "code",
      "source": [
        "# solve the problem\n",
        "prob3.writeLP(\"prob3.lp\")\n",
        "prob3.solve(GLPK(options=['--ranges', 'prob3.sen']))\n",
        "print (\"Status:\", LpStatus[prob3.status])\n",
        "\n",
        "for v in prob3.variables():\n",
        "    print(v.name, \"=\", v.varValue)\n",
        "\n",
        "print (\"Objective\", value(prob3.objective))\n",
        "print (\"\")"
      ],
      "metadata": {
        "colab": {
          "base_uri": "https://localhost:8080/"
        },
        "id": "un3yaURuC7GA",
        "outputId": "31d8e631-bd85-4636-bdc8-74dc9d40521c"
      },
      "execution_count": 38,
      "outputs": [
        {
          "output_type": "stream",
          "name": "stdout",
          "text": [
            "Status: Optimal\n",
            "S0000 = 90.0\n",
            "S0400 = 125.0\n",
            "S0800 = 125.0\n",
            "S1200 = 175.0\n",
            "S1600 = 125.0\n",
            "S2000 = 0.0\n",
            "Objective 640.0\n",
            "\n"
          ]
        }
      ]
    },
    {
      "cell_type": "code",
      "source": [
        "# define variables\n",
        "Beef = LpVariable(\"Beef\", 0, None)\n",
        "Pork = LpVariable(\"Pork\", 0, None)\n",
        "Chicken = LpVariable(\"Chicken\", 0, None)\n",
        "Turkey = LpVariable(\"Turkey\", 0, None)"
      ],
      "metadata": {
        "id": "JE1nd_YhDBFC"
      },
      "execution_count": 39,
      "outputs": []
    },
    {
      "cell_type": "code",
      "source": [
        "# defines the problem\n",
        "prob4 = LpProblem(\"problem\", LpMinimize)"
      ],
      "metadata": {
        "id": "FE56IUn3LRQt"
      },
      "execution_count": 40,
      "outputs": []
    },
    {
      "cell_type": "code",
      "source": [
        "# define constraints\n",
        "prob4 += 640*Beef + 1055*Pork + 780*Chicken + 528*Turkey <= 100\n",
        "prob4 += 32.5*Beef + 54*Pork + 25.6*Chicken + 6.4*Turkey <= 6\n",
        "prob4 += 210*Beef + 205*Pork + 220*Chicken + 172*Turkey <= 27\n",
        "prob4 += 0.75*Beef - 0.25*Pork - 0.25*Chicken - 0.25*Turkey >= 0\n",
        "prob4 += -0.25*Beef + 0.75*Pork - 0.25*Chicken - 0.25*Turkey >= 0\n",
        "prob4 += Beef + Pork + Chicken + Turkey >= 2/16"
      ],
      "metadata": {
        "id": "P5BVbG6dLoEz"
      },
      "execution_count": 41,
      "outputs": []
    },
    {
      "cell_type": "code",
      "source": [
        "# define objective function\n",
        "prob4 += 0.76*Beef + 0.82*Pork + 0.64*Chicken + 0.58*Turkey"
      ],
      "metadata": {
        "id": "lfqwdfcZLprs"
      },
      "execution_count": 42,
      "outputs": []
    },
    {
      "cell_type": "code",
      "source": [
        "# solve the problem\n",
        "prob4.writeLP(\"prob4.lp\")\n",
        "prob4.solve(GLPK(options=['--ranges', 'prob4.sen']))\n",
        "print (\"Status:\", LpStatus[prob4.status])\n",
        "\n",
        "for v in prob4.variables():\n",
        "    print(v.name, \"=\", v.varValue)\n",
        "\n",
        "print (\"Objective\", value(prob4.objective))"
      ],
      "metadata": {
        "colab": {
          "base_uri": "https://localhost:8080/"
        },
        "id": "9Hnta7GSLsIM",
        "outputId": "7fadcd9c-07de-4d45-ba03-0b63bdfb2c3a"
      },
      "execution_count": 44,
      "outputs": [
        {
          "output_type": "stream",
          "name": "stdout",
          "text": [
            "Status: Optimal\n",
            "Beef = 0.03125\n",
            "Chicken = 0.0\n",
            "Pork = 0.03125\n",
            "Turkey = 0.0625\n",
            "Objective 0.085625\n"
          ]
        }
      ]
    },
    {
      "cell_type": "code",
      "source": [
        ""
      ],
      "metadata": {
        "id": "d8RioNqCLtqt"
      },
      "execution_count": null,
      "outputs": []
    }
  ]
}