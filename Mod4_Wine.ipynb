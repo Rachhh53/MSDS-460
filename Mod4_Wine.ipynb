{
  "nbformat": 4,
  "nbformat_minor": 0,
  "metadata": {
    "colab": {
      "name": "Mod4-Wine.ipynb",
      "provenance": [],
      "collapsed_sections": [],
      "authorship_tag": "ABX9TyP7X3Q1a40oy9J00l2VaEfD",
      "include_colab_link": true
    },
    "kernelspec": {
      "name": "python3",
      "display_name": "Python 3"
    },
    "language_info": {
      "name": "python"
    }
  },
  "cells": [
    {
      "cell_type": "markdown",
      "metadata": {
        "id": "view-in-github",
        "colab_type": "text"
      },
      "source": [
        "<a href=\"https://colab.research.google.com/github/Rachhh53/MSDS-460/blob/main/Mod4_Wine.ipynb\" target=\"_parent\"><img src=\"https://colab.research.google.com/assets/colab-badge.svg\" alt=\"Open In Colab\"/></a>"
      ]
    },
    {
      "cell_type": "code",
      "execution_count": 1,
      "metadata": {
        "colab": {
          "base_uri": "https://localhost:8080/"
        },
        "id": "FQhdzCAfPlam",
        "outputId": "8da8cfc1-eff3-4c06-a750-cac57c8ab238"
      },
      "outputs": [
        {
          "output_type": "stream",
          "name": "stdout",
          "text": [
            "Collecting pulp\n",
            "  Downloading PuLP-2.6.0-py3-none-any.whl (14.2 MB)\n",
            "\u001b[K     |████████████████████████████████| 14.2 MB 4.1 MB/s \n",
            "\u001b[?25hInstalling collected packages: pulp\n",
            "Successfully installed pulp-2.6.0\n"
          ]
        }
      ],
      "source": [
        "pip install pulp"
      ]
    },
    {
      "cell_type": "code",
      "source": [
        "!apt-get install -y -qq glpk-utils"
      ],
      "metadata": {
        "colab": {
          "base_uri": "https://localhost:8080/"
        },
        "id": "-Ty3rStsPnQ3",
        "outputId": "38fdcf07-50e7-49ee-b324-067a5db15f79"
      },
      "execution_count": 2,
      "outputs": [
        {
          "output_type": "stream",
          "name": "stdout",
          "text": [
            "Selecting previously unselected package libsuitesparseconfig5:amd64.\n",
            "(Reading database ... 155229 files and directories currently installed.)\n",
            "Preparing to unpack .../libsuitesparseconfig5_1%3a5.1.2-2_amd64.deb ...\n",
            "Unpacking libsuitesparseconfig5:amd64 (1:5.1.2-2) ...\n",
            "Selecting previously unselected package libamd2:amd64.\n",
            "Preparing to unpack .../libamd2_1%3a5.1.2-2_amd64.deb ...\n",
            "Unpacking libamd2:amd64 (1:5.1.2-2) ...\n",
            "Selecting previously unselected package libcolamd2:amd64.\n",
            "Preparing to unpack .../libcolamd2_1%3a5.1.2-2_amd64.deb ...\n",
            "Unpacking libcolamd2:amd64 (1:5.1.2-2) ...\n",
            "Selecting previously unselected package libglpk40:amd64.\n",
            "Preparing to unpack .../libglpk40_4.65-1_amd64.deb ...\n",
            "Unpacking libglpk40:amd64 (4.65-1) ...\n",
            "Selecting previously unselected package glpk-utils.\n",
            "Preparing to unpack .../glpk-utils_4.65-1_amd64.deb ...\n",
            "Unpacking glpk-utils (4.65-1) ...\n",
            "Setting up libsuitesparseconfig5:amd64 (1:5.1.2-2) ...\n",
            "Setting up libcolamd2:amd64 (1:5.1.2-2) ...\n",
            "Setting up libamd2:amd64 (1:5.1.2-2) ...\n",
            "Setting up libglpk40:amd64 (4.65-1) ...\n",
            "Setting up glpk-utils (4.65-1) ...\n",
            "Processing triggers for libc-bin (2.27-3ubuntu1.3) ...\n",
            "/sbin/ldconfig.real: /usr/local/lib/python3.7/dist-packages/ideep4py/lib/libmkldnn.so.0 is not a symbolic link\n",
            "\n",
            "Processing triggers for man-db (2.8.3-2ubuntu0.1) ...\n"
          ]
        }
      ]
    },
    {
      "cell_type": "code",
      "source": [
        "from pulp import LpVariable, LpProblem, LpMaximize, LpStatus, value, LpMinimize, GLPK"
      ],
      "metadata": {
        "id": "sXSHzCzzPqc6"
      },
      "execution_count": 3,
      "outputs": []
    },
    {
      "cell_type": "markdown",
      "source": [
        "# Wine Problem"
      ],
      "metadata": {
        "id": "Szw4RjqDQDRe"
      }
    },
    {
      "cell_type": "code",
      "source": [
        "# define variables\n",
        "A1 = LpVariable(\"A1\", 0, None)\n",
        "A2 = LpVariable(\"A2\", 0, None)\n",
        "A3 = LpVariable(\"A3\", 0, None)\n",
        "A4 = LpVariable(\"A4\", 0, None)\n",
        "B1 = LpVariable(\"B1\", 0, None)\n",
        "B2 = LpVariable(\"B2\", 0, None)\n",
        "B3 = LpVariable(\"B3\", 0, None)\n",
        "B4 = LpVariable(\"B4\", 0, None)"
      ],
      "metadata": {
        "id": "hQZCXS2wPrJQ"
      },
      "execution_count": 4,
      "outputs": []
    },
    {
      "cell_type": "code",
      "source": [
        "# defines the problem\n",
        "prob4 = LpProblem(\"problem\", LpMaximize)"
      ],
      "metadata": {
        "id": "ZTO92T7wQHYF"
      },
      "execution_count": 5,
      "outputs": []
    },
    {
      "cell_type": "code",
      "source": [
        "# define constraints\n",
        "prob4 += A1+A2+A3+A4 <= 3500\n",
        "prob4 += B1+B2+B3+B4 <= 3100\n",
        "prob4 += A1+B1 <= 1800\n",
        "prob4 += A2+B2 <= 2300\n",
        "prob4 += A3+B3 <= 1250\n",
        "prob4 += A4+B4 <= 1750"
      ],
      "metadata": {
        "id": "thg35gcFQJCa"
      },
      "execution_count": 6,
      "outputs": []
    },
    {
      "cell_type": "code",
      "source": [
        "# define objective function\n",
        "prob4 += 39*A1+36*A2+34*A3+32*A4+32*B1+36*B2+37*B3+29*B4"
      ],
      "metadata": {
        "id": "xajuL-2QQL11"
      },
      "execution_count": 7,
      "outputs": []
    },
    {
      "cell_type": "code",
      "source": [
        "# solve the problem\n",
        "prob4.writeLP(\"prob4.lp\")\n",
        "prob4.solve(GLPK(options=['--ranges', 'prob4.sen']))\n",
        "print (\"Status:\", LpStatus[prob4.status])"
      ],
      "metadata": {
        "colab": {
          "base_uri": "https://localhost:8080/"
        },
        "id": "e8ZjgDvIQNh7",
        "outputId": "648484c4-131d-427b-a6f6-a1c441d8e9f7"
      },
      "execution_count": 8,
      "outputs": [
        {
          "output_type": "stream",
          "name": "stdout",
          "text": [
            "Status: Optimal\n"
          ]
        }
      ]
    },
    {
      "cell_type": "code",
      "source": [
        "# Note, we are only able to get sensitivity information because we are solving\n",
        "# as a linear program.  If we solved as an Integer Program, then no \n",
        "# sensitivity information would be available.\n",
        "\n",
        "for v in prob4.variables():\n",
        "    print(v.name, \"=\", v.varValue)\n",
        "\n",
        "print (\"Objective\", value(prob4.objective))\n",
        "print (\"\")"
      ],
      "metadata": {
        "colab": {
          "base_uri": "https://localhost:8080/"
        },
        "id": "doFQ3pXSQQoN",
        "outputId": "ad188d1a-4dd6-4fd4-da27-97901b06ff74"
      },
      "execution_count": 9,
      "outputs": [
        {
          "output_type": "stream",
          "name": "stdout",
          "text": [
            "A1 = 1800.0\n",
            "A2 = 450.0\n",
            "A3 = 0.0\n",
            "A4 = 1250.0\n",
            "B1 = 0.0\n",
            "B2 = 1850.0\n",
            "B3 = 1250.0\n",
            "B4 = 0.0\n",
            "Objective 239250.0\n",
            "\n"
          ]
        }
      ]
    }
  ]
}