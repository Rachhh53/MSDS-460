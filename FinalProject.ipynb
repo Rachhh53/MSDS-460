{
  "nbformat": 4,
  "nbformat_minor": 0,
  "metadata": {
    "colab": {
      "name": "FinalProject.ipynb",
      "provenance": [],
      "collapsed_sections": [],
      "authorship_tag": "ABX9TyNuZDtFfal0+IacePd9hsxm",
      "include_colab_link": true
    },
    "kernelspec": {
      "name": "python3",
      "display_name": "Python 3"
    },
    "language_info": {
      "name": "python"
    }
  },
  "cells": [
    {
      "cell_type": "markdown",
      "metadata": {
        "id": "view-in-github",
        "colab_type": "text"
      },
      "source": [
        "<a href=\"https://colab.research.google.com/github/Rachhh53/MSDS-460-Decision-Analytics/blob/main/FinalProject.ipynb\" target=\"_parent\"><img src=\"https://colab.research.google.com/assets/colab-badge.svg\" alt=\"Open In Colab\"/></a>"
      ]
    },
    {
      "cell_type": "code",
      "execution_count": 1,
      "metadata": {
        "colab": {
          "base_uri": "https://localhost:8080/"
        },
        "id": "FQhdzCAfPlam",
        "outputId": "b2b9d5d4-30b0-4397-bec6-8e3594f09d39"
      },
      "outputs": [
        {
          "output_type": "stream",
          "name": "stdout",
          "text": [
            "Collecting pulp\n",
            "  Downloading PuLP-2.6.0-py3-none-any.whl (14.2 MB)\n",
            "\u001b[K     |████████████████████████████████| 14.2 MB 11.8 MB/s \n",
            "\u001b[?25hInstalling collected packages: pulp\n",
            "Successfully installed pulp-2.6.0\n"
          ]
        }
      ],
      "source": [
        "pip install pulp"
      ]
    },
    {
      "cell_type": "code",
      "source": [
        "!apt-get install -y -qq glpk-utils"
      ],
      "metadata": {
        "colab": {
          "base_uri": "https://localhost:8080/"
        },
        "id": "-Ty3rStsPnQ3",
        "outputId": "e0254a8a-b744-449b-a42b-5297af2a28d4"
      },
      "execution_count": 2,
      "outputs": [
        {
          "output_type": "stream",
          "name": "stdout",
          "text": [
            "Selecting previously unselected package libsuitesparseconfig5:amd64.\n",
            "(Reading database ... 155320 files and directories currently installed.)\n",
            "Preparing to unpack .../libsuitesparseconfig5_1%3a5.1.2-2_amd64.deb ...\n",
            "Unpacking libsuitesparseconfig5:amd64 (1:5.1.2-2) ...\n",
            "Selecting previously unselected package libamd2:amd64.\n",
            "Preparing to unpack .../libamd2_1%3a5.1.2-2_amd64.deb ...\n",
            "Unpacking libamd2:amd64 (1:5.1.2-2) ...\n",
            "Selecting previously unselected package libcolamd2:amd64.\n",
            "Preparing to unpack .../libcolamd2_1%3a5.1.2-2_amd64.deb ...\n",
            "Unpacking libcolamd2:amd64 (1:5.1.2-2) ...\n",
            "Selecting previously unselected package libglpk40:amd64.\n",
            "Preparing to unpack .../libglpk40_4.65-1_amd64.deb ...\n",
            "Unpacking libglpk40:amd64 (4.65-1) ...\n",
            "Selecting previously unselected package glpk-utils.\n",
            "Preparing to unpack .../glpk-utils_4.65-1_amd64.deb ...\n",
            "Unpacking glpk-utils (4.65-1) ...\n",
            "Setting up libsuitesparseconfig5:amd64 (1:5.1.2-2) ...\n",
            "Setting up libcolamd2:amd64 (1:5.1.2-2) ...\n",
            "Setting up libamd2:amd64 (1:5.1.2-2) ...\n",
            "Setting up libglpk40:amd64 (4.65-1) ...\n",
            "Setting up glpk-utils (4.65-1) ...\n",
            "Processing triggers for libc-bin (2.27-3ubuntu1.3) ...\n",
            "/sbin/ldconfig.real: /usr/local/lib/python3.7/dist-packages/ideep4py/lib/libmkldnn.so.0 is not a symbolic link\n",
            "\n",
            "Processing triggers for man-db (2.8.3-2ubuntu0.1) ...\n"
          ]
        }
      ]
    },
    {
      "cell_type": "code",
      "source": [
        "from pulp import LpVariable, LpProblem, LpMaximize, LpStatus, value, LpMinimize, GLPK"
      ],
      "metadata": {
        "id": "sXSHzCzzPqc6"
      },
      "execution_count": 3,
      "outputs": []
    },
    {
      "cell_type": "code",
      "source": [
        "# define variables\n",
        "T1U1 = LpVariable(\"T1U1\", 0, None) # Tweet 1 to User 1\n",
        "U1U2 = LpVariable(\"U1U2\", 0, None) # User 1 to User 2\n",
        "U2U3 = LpVariable(\"U2U3\", 0, None) # User2 to User 3\n",
        "U3U4 = LpVariable(\"U3U4\", 0, None) # User3 to User 4\n",
        "U3U5 = LpVariable(\"U3U5\", 0, None) # User 3 to User 5\n",
        "T2U5 = LpVariable(\"T2U5\", 0, None) # Tweet 2 to User 5\n",
        "T2U3 = LpVariable(\"T2U3\", 0, None) # Tweet 2 to User 3\n",
        "T2U4 = LpVariable(\"T2U4\", 0, None) # Tweet 2 to User 4\n",
        "U4U3 = LpVariable(\"U4U3\", 0, None) # User 4 to User 3\n",
        "U3U2 = LpVariable(\"U3U2\", 0, None) # User 3 to User 2\n",
        "T1U5 = LpVariable(\"T1U5\", 0, None) # Tweet 1 to User 5"
      ],
      "metadata": {
        "id": "hQZCXS2wPrJQ"
      },
      "execution_count": 7,
      "outputs": []
    },
    {
      "cell_type": "code",
      "source": [
        "# defines the problem\n",
        "prob = LpProblem(\"problem\", LpMinimize)"
      ],
      "metadata": {
        "id": "ZTO92T7wQHYF"
      },
      "execution_count": 8,
      "outputs": []
    },
    {
      "cell_type": "code",
      "source": [
        "# define constraints\n",
        "prob += T1U1 == 10\n",
        "prob += U1U2+U3U2-U2U3 == 6\n",
        "prob += U2U3+U4U3+T2U3-U3U2-U3U4-U3U5 == 17\n",
        "prob += U3U4+T2U4-U4U3 == 7\n",
        "prob += T1U5+U3U5+T2U5 == 8\n",
        "prob += T1U1+T1U5 <= 20\n",
        "prob += T2U5+T2U3+T2U4 <= 30"
      ],
      "metadata": {
        "id": "thg35gcFQJCa"
      },
      "execution_count": 9,
      "outputs": []
    },
    {
      "cell_type": "code",
      "source": [
        "# define objective function\n",
        "prob += 3*T1U1+5*U1U2+3.5*U2U3+4*U3U2+3.5*U3U4+2.5*U4U3+3*U3U5+4*T1U5+5*T2U5+4.5*T2U3+5*T2U4\n",
        "prob"
      ],
      "metadata": {
        "id": "xajuL-2QQL11",
        "colab": {
          "base_uri": "https://localhost:8080/"
        },
        "outputId": "aa6ad0d4-d387-4b62-a2e9-57cfcca58f4e"
      },
      "execution_count": 12,
      "outputs": [
        {
          "output_type": "execute_result",
          "data": {
            "text/plain": [
              "problem:\n",
              "MINIMIZE\n",
              "3*T1U1 + 4*T1U5 + 4.5*T2U3 + 5*T2U4 + 5*T2U5 + 5*U1U2 + 3.5*U2U3 + 4*U3U2 + 3.5*U3U4 + 3*U3U5 + 2.5*U4U3 + 0.0\n",
              "SUBJECT TO\n",
              "_C1: T1U1 = 10\n",
              "\n",
              "_C2: U1U2 - U2U3 + U3U2 = 6\n",
              "\n",
              "_C3: T2U3 + U2U3 - U3U2 - U3U4 - U3U5 + U4U3 = 17\n",
              "\n",
              "_C4: T2U4 + U3U4 - U4U3 = 7\n",
              "\n",
              "_C5: T1U5 + T2U5 + U3U5 = 8\n",
              "\n",
              "_C6: T1U1 + T1U5 <= 20\n",
              "\n",
              "_C7: T2U3 + T2U4 + T2U5 <= 30\n",
              "\n",
              "VARIABLES\n",
              "T1U1 Continuous\n",
              "T1U5 Continuous\n",
              "T2U3 Continuous\n",
              "T2U4 Continuous\n",
              "T2U5 Continuous\n",
              "U1U2 Continuous\n",
              "U2U3 Continuous\n",
              "U3U2 Continuous\n",
              "U3U4 Continuous\n",
              "U3U5 Continuous\n",
              "U4U3 Continuous"
            ]
          },
          "metadata": {},
          "execution_count": 12
        }
      ]
    },
    {
      "cell_type": "code",
      "source": [
        "# solve the problem\n",
        "prob.writeLP(\"prob.lp\")\n",
        "prob.solve(GLPK(options=['--ranges', 'prob.sen']))\n",
        "print (\"Status:\", LpStatus[prob.status])"
      ],
      "metadata": {
        "colab": {
          "base_uri": "https://localhost:8080/"
        },
        "id": "e8ZjgDvIQNh7",
        "outputId": "66f86fc6-415c-49dd-f729-bfac88c25660"
      },
      "execution_count": 13,
      "outputs": [
        {
          "output_type": "stream",
          "name": "stdout",
          "text": [
            "Status: Optimal\n"
          ]
        }
      ]
    },
    {
      "cell_type": "code",
      "source": [
        "# Note, we are only able to get sensitivity information because we are solving\n",
        "# as a linear program.  If we solved as an Integer Program, then no \n",
        "# sensitivity information would be available.\n",
        "\n",
        "for v in prob.variables():\n",
        "    print(v.name, \"=\", v.varValue)\n",
        "\n",
        "print (\"Objective\", value(prob.objective))\n",
        "print (\"\")"
      ],
      "metadata": {
        "colab": {
          "base_uri": "https://localhost:8080/"
        },
        "id": "doFQ3pXSQQoN",
        "outputId": "8ddc982b-78ae-4d85-db66-230deb94bf7e"
      },
      "execution_count": 15,
      "outputs": [
        {
          "output_type": "stream",
          "name": "stdout",
          "text": [
            "T1U1 = 10.0\n",
            "T1U5 = 8.0\n",
            "T2U3 = 17.0\n",
            "T2U4 = 7.0\n",
            "T2U5 = 0.0\n",
            "U1U2 = 6.0\n",
            "U2U3 = 0.0\n",
            "U3U2 = 0.0\n",
            "U3U4 = 0.0\n",
            "U3U5 = 0.0\n",
            "U4U3 = 0.0\n",
            "Objective 203.5\n",
            "\n"
          ]
        }
      ]
    }
  ]
}