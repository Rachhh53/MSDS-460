{
  "nbformat": 4,
  "nbformat_minor": 0,
  "metadata": {
    "colab": {
      "name": "Homework2.ipynb",
      "provenance": [],
      "collapsed_sections": [],
      "toc_visible": true,
      "authorship_tag": "ABX9TyMNEOYkjIKmUxIOCa4GAuoX",
      "include_colab_link": true
    },
    "kernelspec": {
      "name": "python3",
      "display_name": "Python 3"
    },
    "language_info": {
      "name": "python"
    }
  },
  "cells": [
    {
      "cell_type": "markdown",
      "metadata": {
        "id": "view-in-github",
        "colab_type": "text"
      },
      "source": [
        "<a href=\"https://colab.research.google.com/github/Rachhh53/MSDS-460-Decision-Analytics/blob/main/Homework2.ipynb\" target=\"_parent\"><img src=\"https://colab.research.google.com/assets/colab-badge.svg\" alt=\"Open In Colab\"/></a>"
      ]
    },
    {
      "cell_type": "code",
      "execution_count": null,
      "metadata": {
        "colab": {
          "base_uri": "https://localhost:8080/"
        },
        "id": "FQhdzCAfPlam",
        "outputId": "3bafa69e-4452-47e2-cca1-c01374e3715f"
      },
      "outputs": [
        {
          "output_type": "stream",
          "name": "stdout",
          "text": [
            "Collecting pulp\n",
            "  Downloading PuLP-2.6.0-py3-none-any.whl (14.2 MB)\n",
            "\u001b[K     |████████████████████████████████| 14.2 MB 4.6 MB/s \n",
            "\u001b[?25hInstalling collected packages: pulp\n",
            "Successfully installed pulp-2.6.0\n"
          ]
        }
      ],
      "source": [
        "!pip install pulp"
      ]
    },
    {
      "cell_type": "code",
      "source": [
        "!apt-get install -y -qq glpk-utils"
      ],
      "metadata": {
        "colab": {
          "base_uri": "https://localhost:8080/"
        },
        "id": "-Ty3rStsPnQ3",
        "outputId": "85cd3ea8-f8a9-4f5d-aa00-7a58fdbf537f"
      },
      "execution_count": null,
      "outputs": [
        {
          "output_type": "stream",
          "name": "stdout",
          "text": [
            "Selecting previously unselected package libsuitesparseconfig5:amd64.\n",
            "(Reading database ... 155229 files and directories currently installed.)\n",
            "Preparing to unpack .../libsuitesparseconfig5_1%3a5.1.2-2_amd64.deb ...\n",
            "Unpacking libsuitesparseconfig5:amd64 (1:5.1.2-2) ...\n",
            "Selecting previously unselected package libamd2:amd64.\n",
            "Preparing to unpack .../libamd2_1%3a5.1.2-2_amd64.deb ...\n",
            "Unpacking libamd2:amd64 (1:5.1.2-2) ...\n",
            "Selecting previously unselected package libcolamd2:amd64.\n",
            "Preparing to unpack .../libcolamd2_1%3a5.1.2-2_amd64.deb ...\n",
            "Unpacking libcolamd2:amd64 (1:5.1.2-2) ...\n",
            "Selecting previously unselected package libglpk40:amd64.\n",
            "Preparing to unpack .../libglpk40_4.65-1_amd64.deb ...\n",
            "Unpacking libglpk40:amd64 (4.65-1) ...\n",
            "Selecting previously unselected package glpk-utils.\n",
            "Preparing to unpack .../glpk-utils_4.65-1_amd64.deb ...\n",
            "Unpacking glpk-utils (4.65-1) ...\n",
            "Setting up libsuitesparseconfig5:amd64 (1:5.1.2-2) ...\n",
            "Setting up libcolamd2:amd64 (1:5.1.2-2) ...\n",
            "Setting up libamd2:amd64 (1:5.1.2-2) ...\n",
            "Setting up libglpk40:amd64 (4.65-1) ...\n",
            "Setting up glpk-utils (4.65-1) ...\n",
            "Processing triggers for libc-bin (2.27-3ubuntu1.3) ...\n",
            "/sbin/ldconfig.real: /usr/local/lib/python3.7/dist-packages/ideep4py/lib/libmkldnn.so.0 is not a symbolic link\n",
            "\n",
            "Processing triggers for man-db (2.8.3-2ubuntu0.1) ...\n"
          ]
        }
      ]
    },
    {
      "cell_type": "code",
      "source": [
        "from pulp import LpVariable, LpProblem, LpMaximize, LpStatus, value, LpMinimize, GLPK\n",
        "import pandas as pd"
      ],
      "metadata": {
        "id": "sXSHzCzzPqc6"
      },
      "execution_count": 2,
      "outputs": []
    },
    {
      "cell_type": "markdown",
      "source": [
        "# Problem 1"
      ],
      "metadata": {
        "id": "Szw4RjqDQDRe"
      }
    },
    {
      "cell_type": "markdown",
      "source": [
        "1a."
      ],
      "metadata": {
        "id": "824S-k4NAJ1b"
      }
    },
    {
      "cell_type": "code",
      "source": [
        "# define variables\n",
        "x1 = LpVariable(\"x1\", None)\n",
        "x2 = LpVariable(\"x2\", None, 0, None)\n",
        "x3 = LpVariable(\"x3\", 0, None)\n",
        "x4 = LpVariable(\"x4\", 0, None)"
      ],
      "metadata": {
        "id": "hQZCXS2wPrJQ"
      },
      "execution_count": null,
      "outputs": []
    },
    {
      "cell_type": "code",
      "source": [
        "# defines the problem\n",
        "prob1a = LpProblem(\"problem\", LpMaximize)"
      ],
      "metadata": {
        "id": "ZTO92T7wQHYF"
      },
      "execution_count": null,
      "outputs": []
    },
    {
      "cell_type": "code",
      "source": [
        "# define constraints\n",
        "prob1a += 4*x1 + x2 + x3 == 20\n",
        "prob1a += 2*x1 - x2 >= 6\n",
        "prob1a += x1 - x2 + 5*x3 >= -5\n",
        "prob1a += -3*x1 + 2*x2 + x3 <= 4"
      ],
      "metadata": {
        "id": "thg35gcFQJCa"
      },
      "execution_count": null,
      "outputs": []
    },
    {
      "cell_type": "code",
      "source": [
        "# define objective function\n",
        "prob1a += -4*x1 + 2*x2"
      ],
      "metadata": {
        "id": "xajuL-2QQL11"
      },
      "execution_count": null,
      "outputs": []
    },
    {
      "cell_type": "code",
      "source": [
        "prob1a.solve()\n",
        "print(LpStatus[prob1a.status])\n",
        "for i in prob1a.variables():\n",
        "    print(\"Variable {0} = {1}\".format(i.name, i.varValue))\n",
        "print(\"Objective function z = {0}\".format((prob1a.objective)))"
      ],
      "metadata": {
        "colab": {
          "base_uri": "https://localhost:8080/"
        },
        "id": "hJUFjInUB4sA",
        "outputId": "0a912478-6ba7-4e61-caf4-1e9634f9287a"
      },
      "execution_count": null,
      "outputs": [
        {
          "output_type": "stream",
          "name": "stdout",
          "text": [
            "Optimal\n",
            "Variable x1 = 2.0\n",
            "Variable x2 = -2.0\n",
            "Variable x3 = 14.0\n",
            "Objective function z = -4*x1 + 2*x2\n"
          ]
        }
      ]
    },
    {
      "cell_type": "code",
      "source": [
        "for name, c in list(prob1a.constraints.items()):\n",
        "    print(name, \":\", c, \"\\t\", c.pi, \"\\t\\t\", c.slack)"
      ],
      "metadata": {
        "colab": {
          "base_uri": "https://localhost:8080/"
        },
        "id": "nJEvGzSnBlFL",
        "outputId": "beff16c7-3864-46b5-eb9f-03c2b3b7de49"
      },
      "execution_count": null,
      "outputs": [
        {
          "output_type": "stream",
          "name": "stdout",
          "text": [
            "_C1 : 4*x1 + x2 + x3 = 20 \t -0.0 \t\t -0.0\n",
            "_C2 : 2*x1 - x2 >= 6 \t -2.0 \t\t -0.0\n",
            "_C3 : x1 - x2 + 5*x3 >= -5 \t -0.0 \t\t -79.0\n",
            "_C4 : -3*x1 + 2*x2 + x3 <= 4 \t -0.0 \t\t -0.0\n"
          ]
        }
      ]
    },
    {
      "cell_type": "markdown",
      "source": [
        "Looks like there is not a good way to systematically get the dual..."
      ],
      "metadata": {
        "id": "h5gMkun_DaVE"
      }
    },
    {
      "cell_type": "code",
      "source": [
        "\n",
        "# define variables\n",
        "x1 = LpVariable(\"x1\", 0, None)\n",
        "x2 = LpVariable(\"x2\", 0, None)\n",
        "x3 = LpVariable(\"x3\", 0, None)"
      ],
      "metadata": {
        "id": "ARE-kav3DdFj"
      },
      "execution_count": null,
      "outputs": []
    },
    {
      "cell_type": "code",
      "source": [
        "# defines the problem\n",
        "prob1b = LpProblem(\"problem\", LpMaximize)"
      ],
      "metadata": {
        "id": "ckQ3n5iV1P3c"
      },
      "execution_count": null,
      "outputs": []
    },
    {
      "cell_type": "code",
      "source": [
        "# define constraints\n",
        "prob1b += 8*x1 + 6*x2 + x3 <= 50\n",
        "prob1b += 4*x1 + 2*x2 + 3*x3 <= 20\n",
        "prob1b += 2*x1 + x2 + 2*x3 <= 25"
      ],
      "metadata": {
        "id": "7h6z1-331Rx5"
      },
      "execution_count": null,
      "outputs": []
    },
    {
      "cell_type": "code",
      "source": [
        "# define objective function\n",
        "prob1b += 25*x1 + 30*x2 + 20*x3"
      ],
      "metadata": {
        "id": "VNvmlBcF1TxC"
      },
      "execution_count": null,
      "outputs": []
    },
    {
      "cell_type": "code",
      "source": [
        "# solve the problem\n",
        "prob1b.writeLP(\"prob1b.lp\")\n",
        "prob1b.solve(GLPK(options=['--ranges', 'prob1b.sen']))\n",
        "print (\"Status:\", LpStatus[prob1b.status])\n",
        "\n",
        "for v in prob1b.variables():\n",
        "    print(v.name, \"=\", v.varValue)\n",
        "\n",
        "print (\"Objective\", value(prob1b.objective))\n",
        "print (\"\")"
      ],
      "metadata": {
        "id": "fEj4f75E1W7n",
        "outputId": "1b44779b-2c4a-4eb5-df94-ee58d39c73c6",
        "colab": {
          "base_uri": "https://localhost:8080/"
        }
      },
      "execution_count": null,
      "outputs": [
        {
          "output_type": "stream",
          "name": "stdout",
          "text": [
            "Status: Optimal\n",
            "x1 = 0.0\n",
            "x2 = 8.125\n",
            "x3 = 1.25\n",
            "Objective 268.75\n",
            "\n"
          ]
        }
      ]
    },
    {
      "cell_type": "markdown",
      "source": [
        "# Problem 2"
      ],
      "metadata": {
        "id": "vNaI3yUJ_Ye8"
      }
    },
    {
      "cell_type": "code",
      "source": [
        "# define variables\n",
        "#M1 = LpVariable(\"M1\", 0, 98) # number of type 1 machines available\n",
        "#M2 = LpVariable(\"M2\", 0, 73) # number of type 2 machines available\n",
        "#S = LpVariable(\"S\", 0, 260) # tons of steel available\n",
        "TM1 = LpVariable(\"TM1\", 0, None) # trucks produced on type 1 machine\n",
        "TM2 = LpVariable(\"TM2\", 0, None) # trucks produced on type 2 machine\n",
        "CM1 = LpVariable(\"CM1\", 0, None) # cars produced on type 1 machine\n",
        "CM2 = LpVariable(\"CM2\", 0, None) # cars produced on type 2 machine"
      ],
      "metadata": {
        "id": "S51aRiwo_T-M"
      },
      "execution_count": 49,
      "outputs": []
    },
    {
      "cell_type": "code",
      "source": [
        "# defines the problem\n",
        "prob2 = LpProblem(\"problem\", LpMaximize)"
      ],
      "metadata": {
        "id": "n75LbtSV_sSi"
      },
      "execution_count": 50,
      "outputs": []
    },
    {
      "cell_type": "code",
      "source": [
        "# define constraints\n",
        "prob2 += CM1 + CM2 >= 88 # Marketing considerations dictate that at least 88 cars must be sold\n",
        "prob2 += TM1 + TM2 >= 26 # Marketing considerations dictate that at least 26 trucks must be sold\n",
        "#prob2 += TM1 + CM1 == M1 # cars and trucks produced on machine 1 need to equal the total of machine 1\n",
        "#prob2 += TM2 + CM2 == M2 # cars and trucks produced on machine 2 need to equal the total of machine 2\n",
        "prob2 += 2*(CM1 + CM2) + 3*(TM1 + TM2) <= 260 # steel used is less than or equal to available\n",
        "prob2 += .8*CM1 + TM1 <= 98  # cars and trucks time to produce on machine 1 must be <= machines available\n",
        "prob2 += .6*CM2 + .7*TM2 <= 73 # cars and trucks time to produce on machine 2 must be <= machines available"
      ],
      "metadata": {
        "id": "eYNRIt29_ysP"
      },
      "execution_count": 51,
      "outputs": []
    },
    {
      "cell_type": "code",
      "source": [
        "# define objective function\n",
        "prob2 += 300*(CM1 + CM2) + 400*(TM1 + TM2) - 50*(CM1 + TM1)"
      ],
      "metadata": {
        "id": "6adgdqt6A2jH"
      },
      "execution_count": 52,
      "outputs": []
    },
    {
      "cell_type": "code",
      "source": [
        "# solve the problem\n",
        "prob2.writeLP(\"prob2.lp\")\n",
        "prob2.solve(GLPK(options=['--ranges', 'prob2.sen']))\n",
        "print (\"Status:\", LpStatus[prob2.status])\n",
        "\n",
        "for v in prob2.variables():\n",
        "    print(v.name, \"=\", v.varValue)\n",
        "\n",
        "print (\"Objective\", value(prob2.objective))\n",
        "print (\"\")"
      ],
      "metadata": {
        "colab": {
          "base_uri": "https://localhost:8080/"
        },
        "id": "d6_72cYYA89r",
        "outputId": "2cc03fb9-3693-4478-ac38-4f7293996b56"
      },
      "execution_count": 53,
      "outputs": [
        {
          "output_type": "stream",
          "name": "stdout",
          "text": [
            "Status: Optimal\n",
            "CM1 = 0.0\n",
            "CM2 = 91.0\n",
            "TM1 = 0.0\n",
            "TM2 = 26.0\n",
            "Objective 37700.0\n",
            "\n"
          ]
        }
      ]
    },
    {
      "cell_type": "markdown",
      "source": [
        "useless?"
      ],
      "metadata": {
        "id": "NnqnFuX7hCyl"
      }
    },
    {
      "cell_type": "code",
      "source": [
        "print(f\"dual:\\n\")\n",
        "o = [{'name':name, 'constraint': c, 'shadow price':c.pi, 'slack': c.slack} \n",
        "     for name, c in prob2.constraints.items()]\n",
        "print(pd.DataFrame(o))"
      ],
      "metadata": {
        "colab": {
          "base_uri": "https://localhost:8080/"
        },
        "id": "YIqq6eoGgaTs",
        "outputId": "b3cb255c-43bb-4689-a574-cc8219747e63"
      },
      "execution_count": 54,
      "outputs": [
        {
          "output_type": "stream",
          "name": "stdout",
          "text": [
            "dual:\n",
            "\n",
            "  name                        constraint shadow price slack\n",
            "0  _C1                  {CM1: 1, CM2: 1}         None  None\n",
            "1  _C2                  {TM1: 1, TM2: 1}         None  None\n",
            "2  _C3  {CM1: 2, CM2: 2, TM1: 3, TM2: 3}         None  None\n",
            "3  _C4                {CM1: 0.8, TM1: 1}         None  None\n",
            "4  _C5              {CM2: 0.6, TM2: 0.7}         None  None\n"
          ]
        }
      ]
    },
    {
      "cell_type": "markdown",
      "source": [
        "2i - just confirming!"
      ],
      "metadata": {
        "id": "Rza44ntuMqe_"
      }
    },
    {
      "cell_type": "code",
      "source": [
        "# define variables\n",
        "#M1 = LpVariable(\"M1\", 0, 98) # number of type 1 machines available\n",
        "#M2 = LpVariable(\"M2\", 0, 73) # number of type 2 machines available\n",
        "#S = LpVariable(\"S\", 0, 260) # tons of steel available\n",
        "TM1 = LpVariable(\"TM1\", 0, None) # trucks produced on type 1 machine\n",
        "TM2 = LpVariable(\"TM2\", 0, None) # trucks produced on type 2 machine\n",
        "CM1 = LpVariable(\"CM1\", 0, None) # cars produced on type 1 machine\n",
        "CM2 = LpVariable(\"CM2\", 0, None) # cars produced on type 2 machine"
      ],
      "metadata": {
        "id": "GzOpq-nfX3TA"
      },
      "execution_count": null,
      "outputs": []
    },
    {
      "cell_type": "code",
      "source": [
        "# defines the problem\n",
        "prob2 = LpProblem(\"problem\", LpMaximize)"
      ],
      "metadata": {
        "id": "PC3GO8K4X3TB"
      },
      "execution_count": null,
      "outputs": []
    },
    {
      "cell_type": "code",
      "source": [
        "# define constraints\n",
        "prob2 += CM1 + CM2 >= 88 # Marketing considerations dictate that at least 88 cars must be sold\n",
        "prob2 += TM1 + TM2 >= 26 # Marketing considerations dictate that at least 26 trucks must be sold\n",
        "#prob2 += TM1 + CM1 == M1 # cars and trucks produced on machine 1 need to equal the total of machine 1\n",
        "#prob2 += TM2 + CM2 == M2 # cars and trucks produced on machine 2 need to equal the total of machine 2\n",
        "prob2 += 2*(CM1 + CM2) + 3*(TM1 + TM2) <= 260 # steel used is less than or equal to available\n",
        "prob2 += .8*CM1 + TM1 <= 98  # cars and trucks time to produce on machine 1 must be <= machines available\n",
        "prob2 += .6*CM2 + .7*TM2 <= 73 # cars and trucks time to produce on machine 2 must be <= machines available"
      ],
      "metadata": {
        "id": "kHghwEZoX3TC"
      },
      "execution_count": null,
      "outputs": []
    },
    {
      "cell_type": "code",
      "source": [
        "# define objective function\n",
        "prob2 += 310*(CM1 + CM2) + 400*(TM1 + TM2) - 50*(CM1 + TM1)"
      ],
      "metadata": {
        "id": "sV3wrzC0MvE3"
      },
      "execution_count": 35,
      "outputs": []
    },
    {
      "cell_type": "code",
      "source": [
        "# solve the problem\n",
        "prob2.writeLP(\"prob2.lp\")\n",
        "prob2.solve(GLPK(options=['--ranges', 'prob2.sen']))\n",
        "print (\"Status:\", LpStatus[prob2.status])\n",
        "\n",
        "for v in prob2.variables():\n",
        "    print(v.name, \"=\", v.varValue)\n",
        "\n",
        "print (\"Objective\", value(prob2.objective))\n",
        "print (\"\")"
      ],
      "metadata": {
        "colab": {
          "base_uri": "https://localhost:8080/"
        },
        "id": "cD6R8cPrMrrV",
        "outputId": "4d88ac81-2429-4052-a495-ab5075e3799c"
      },
      "execution_count": 36,
      "outputs": [
        {
          "output_type": "stream",
          "name": "stdout",
          "text": [
            "Status: Optimal\n",
            "CM1 = 0.0\n",
            "CM2 = 91.0\n",
            "TM1 = 0.0\n",
            "TM2 = 26.0\n",
            "Objective 38610.0\n",
            "\n"
          ]
        }
      ]
    },
    {
      "cell_type": "markdown",
      "source": [
        "2iv - check"
      ],
      "metadata": {
        "id": "ASzcnv1AZv1v"
      }
    },
    {
      "cell_type": "code",
      "source": [
        "# define variables\n",
        "#M1 = LpVariable(\"M1\", 0, 98) # number of type 1 machines available\n",
        "#M2 = LpVariable(\"M2\", 0, 73) # number of type 2 machines available\n",
        "#S = LpVariable(\"S\", 0, 260) # tons of steel available\n",
        "TM1 = LpVariable(\"TM1\", 0, None) # trucks produced on type 1 machine\n",
        "TM2 = LpVariable(\"TM2\", 0, None) # trucks produced on type 2 machine\n",
        "CM1 = LpVariable(\"CM1\", 0, None) # cars produced on type 1 machine\n",
        "CM2 = LpVariable(\"CM2\", 0, None) # cars produced on type 2 machine"
      ],
      "metadata": {
        "id": "nbq25veiZ0Bz"
      },
      "execution_count": 37,
      "outputs": []
    },
    {
      "cell_type": "code",
      "source": [
        "# defines the problem\n",
        "prob2 = LpProblem(\"problem\", LpMaximize)"
      ],
      "metadata": {
        "id": "YFwJkeHrZ0B3"
      },
      "execution_count": 38,
      "outputs": []
    },
    {
      "cell_type": "code",
      "source": [
        "# define constraints\n",
        "prob2 += CM1 + CM2 >= 86 # Marketing considerations dictate that at least 88 cars must be sold\n",
        "prob2 += TM1 + TM2 >= 26 # Marketing considerations dictate that at least 26 trucks must be sold\n",
        "#prob2 += TM1 + CM1 == M1 # cars and trucks produced on machine 1 need to equal the total of machine 1\n",
        "#prob2 += TM2 + CM2 == M2 # cars and trucks produced on machine 2 need to equal the total of machine 2\n",
        "prob2 += 2*(CM1 + CM2) + 3*(TM1 + TM2) <= 260 # steel used is less than or equal to available\n",
        "prob2 += .8*CM1 + TM1 <= 98  # cars and trucks time to produce on machine 1 must be <= machines available\n",
        "prob2 += .6*CM2 + .7*TM2 <= 73 # cars and trucks time to produce on machine 2 must be <= machines available"
      ],
      "metadata": {
        "id": "isAdYlAbZ0B5"
      },
      "execution_count": 39,
      "outputs": []
    },
    {
      "cell_type": "code",
      "source": [
        "# define objective function\n",
        "prob2 += 310*(CM1 + CM2) + 400*(TM1 + TM2) - 50*(CM1 + TM1)"
      ],
      "metadata": {
        "id": "fZcLVvLpZ0B7"
      },
      "execution_count": 40,
      "outputs": []
    },
    {
      "cell_type": "code",
      "source": [
        "# solve the problem\n",
        "prob2.writeLP(\"prob2.lp\")\n",
        "prob2.solve(GLPK(options=['--ranges', 'prob2.sen']))\n",
        "print (\"Status:\", LpStatus[prob2.status])\n",
        "\n",
        "for v in prob2.variables():\n",
        "    print(v.name, \"=\", v.varValue)\n",
        "\n",
        "print (\"Objective\", value(prob2.objective))\n",
        "print (\"\")"
      ],
      "metadata": {
        "colab": {
          "base_uri": "https://localhost:8080/"
        },
        "outputId": "238c794f-213a-43b4-c556-99cfd08b0843",
        "id": "qKAzv3JgZ0B9"
      },
      "execution_count": 41,
      "outputs": [
        {
          "output_type": "stream",
          "name": "stdout",
          "text": [
            "Status: Optimal\n",
            "CM1 = 0.0\n",
            "CM2 = 91.0\n",
            "TM1 = 0.0\n",
            "TM2 = 26.0\n",
            "Objective 38610.0\n",
            "\n"
          ]
        }
      ]
    },
    {
      "cell_type": "markdown",
      "source": [
        "2.v check"
      ],
      "metadata": {
        "id": "95-cgKPbahaC"
      }
    },
    {
      "cell_type": "code",
      "source": [
        "# define variables\n",
        "#M1 = LpVariable(\"M1\", 0, 98) # number of type 1 machines available\n",
        "#M2 = LpVariable(\"M2\", 0, 73) # number of type 2 machines available\n",
        "#S = LpVariable(\"S\", 0, 260) # tons of steel available\n",
        "TM1 = LpVariable(\"TM1\", 0, None) # trucks produced on type 1 machine\n",
        "TM2 = LpVariable(\"TM2\", 0, None) # trucks produced on type 2 machine\n",
        "CM1 = LpVariable(\"CM1\", 0, None) # cars produced on type 1 machine\n",
        "CM2 = LpVariable(\"CM2\", 0, None) # cars produced on type 2 machine\n",
        "JM1 = LpVariable(\"JM1\", 0, None) # cars produced on type 2 machine\n",
        "JM2 = LpVariable(\"JM2\", 0, None) # cars produced on type 2 machine"
      ],
      "metadata": {
        "id": "VncM_RmMajlC"
      },
      "execution_count": 42,
      "outputs": []
    },
    {
      "cell_type": "code",
      "source": [
        "# defines the problem\n",
        "prob2 = LpProblem(\"problem\", LpMaximize)"
      ],
      "metadata": {
        "id": "JyX8sTbEajlF"
      },
      "execution_count": 43,
      "outputs": []
    },
    {
      "cell_type": "code",
      "source": [
        "# define constraints\n",
        "prob2 += CM1 + CM2 >= 88 # Marketing considerations dictate that at least 88 cars must be sold\n",
        "prob2 += TM1 + TM2 >= 26 # Marketing considerations dictate that at least 26 trucks must be sold\n",
        "#prob2 += TM1 + CM1 == M1 # cars and trucks produced on machine 1 need to equal the total of machine 1\n",
        "#prob2 += TM2 + CM2 == M2 # cars and trucks produced on machine 2 need to equal the total of machine 2\n",
        "prob2 += 2*(CM1 + CM2) + 3*(TM1 + TM2) +4* (JM1+JM2) <= 260 # steel used is less than or equal to available\n",
        "prob2 += .8*CM1 + TM1 + 1.2*JM1 <= 98  # cars and trucks time to produce on machine 1 must be <= machines available\n",
        "prob2 += .6*CM2 + .7*TM2 + 2*JM2 <= 73 # cars and trucks time to produce on machine 2 must be <= machines available"
      ],
      "metadata": {
        "id": "6kllodeIajlG"
      },
      "execution_count": 45,
      "outputs": []
    },
    {
      "cell_type": "code",
      "source": [
        "# define objective function\n",
        "prob2 += 310*(CM1 + CM2) + 400*(TM1 + TM2) + 600*(JM1 + JM2) - 50*(CM1 + TM1)"
      ],
      "metadata": {
        "id": "fdxkJUjGajlJ"
      },
      "execution_count": 46,
      "outputs": []
    },
    {
      "cell_type": "code",
      "source": [
        "# solve the problem\n",
        "prob2.writeLP(\"prob2.lp\")\n",
        "prob2.solve(GLPK(options=['--ranges', 'prob2.sen']))\n",
        "print (\"Status:\", LpStatus[prob2.status])\n",
        "\n",
        "for v in prob2.variables():\n",
        "    print(v.name, \"=\", v.varValue)\n",
        "\n",
        "print (\"Objective\", value(prob2.objective))\n",
        "print (\"\")"
      ],
      "metadata": {
        "colab": {
          "base_uri": "https://localhost:8080/"
        },
        "outputId": "6dd6706c-76ec-4029-a969-5baecf506bbb",
        "id": "7YoMCpCDajlL"
      },
      "execution_count": 47,
      "outputs": [
        {
          "output_type": "stream",
          "name": "stdout",
          "text": [
            "Status: Optimal\n",
            "CM1 = 0.0\n",
            "CM2 = 91.0\n",
            "JM1 = 0.0\n",
            "JM2 = 0.0\n",
            "TM1 = 0.0\n",
            "TM2 = 26.0\n",
            "Objective 38610.0\n",
            "\n"
          ]
        }
      ]
    },
    {
      "cell_type": "markdown",
      "source": [
        "# Problem 3"
      ],
      "metadata": {
        "id": "sy4FqinLiLKD"
      }
    },
    {
      "cell_type": "markdown",
      "source": [
        "A catering company must have the following number of clean napkins available at the beginning of each of the next four days:<br>\n",
        "* day 1: 15\n",
        "* day 2: 12\n",
        "* day 3: 18\n",
        "* day 4: 6 \n",
        "\n",
        "\n"
      ],
      "metadata": {
        "id": "vxBYu7auiTpM"
      }
    },
    {
      "cell_type": "code",
      "source": [
        "# define variables\n",
        "d1s = LpVariable(\"day1-slow\", 0, None)\n",
        "d1f = LpVariable(\"day1-fast\", 0, None)\n",
        "d1p = LpVariable(\"day1-purchased\", 15, 15) # must purchase enough for the first day, but why buy more?\n",
        "d2s = LpVariable(\"day2-slow\", 0, None)\n",
        "d2f = LpVariable(\"day2-fast\", 0, None)\n",
        "d2p = LpVariable(\"day2-purchased\", 0, None)\n",
        "d3f = LpVariable(\"day3-fast\", 0, 18) # won't clean more than \n",
        "d3p = LpVariable(\"day3-purchased\", 0, None)\n",
        "d4p = LpVariable(\"day4-purchased\", 0, 6) # won't purchase more than is needed for the last day\n",
        "\n",
        "# day 3 slow doesn't exisit because the world of this problem ends on day 4\n",
        "# so better wash all them napkins"
      ],
      "metadata": {
        "id": "N5aAN3dIZx9Q"
      },
      "execution_count": 8,
      "outputs": []
    },
    {
      "cell_type": "code",
      "source": [
        "# define the problem\n",
        "prob3 = LpProblem(\"problem\", LpMinimize)"
      ],
      "metadata": {
        "id": "tGa2MU9ZjTHe"
      },
      "execution_count": 9,
      "outputs": []
    },
    {
      "cell_type": "code",
      "source": [
        "# define constraints\n",
        "# day 1\n",
        "prob3 += d1f + d1s <= d1p # max to clean is what you bought/used\n",
        "# day 2\n",
        "prob3 += d1f + d2p >= 12 # puchase what you didn't clean fast from day 1\n",
        "prob3 += d2f + d2s <= d2p + d1f # can only clean what is dirty\n",
        "# day 3\n",
        "prob3 += d2f + d1s + d3p >= 18 # day 2 fast, day 1 slow and purchsed on day 3 available for day 3\n",
        "prob3 += d3f <= d2f + d1s + d3p # there is only one more day so no slow wash this day\n",
        "# day 4\n",
        "prob3 += d3f + d4p + d2s >= 6 # day 3 fast, day 4 purchases, day 2 slow all available for day 4"
      ],
      "metadata": {
        "id": "CjNBtXottOKR"
      },
      "execution_count": 10,
      "outputs": []
    },
    {
      "cell_type": "code",
      "source": [
        "# define objective function\n",
        "prob3 += .06*(d1s + d2s) + .1*(d1f + d2f + d3f) + .2*(d1p + d2p + d3p + d4p)"
      ],
      "metadata": {
        "id": "7wIOCP32kVbs"
      },
      "execution_count": 11,
      "outputs": []
    },
    {
      "cell_type": "code",
      "source": [
        "# solve the problem\n",
        "prob3.writeLP(\"prob3.lp\")\n",
        "prob3.solve(GLPK(options=['--ranges', 'prob3.sen']))\n",
        "print (\"Status:\", LpStatus[prob3.status])\n",
        "\n",
        "for v in prob3.variables():\n",
        "    print(v.name, \"=\", v.varValue)\n",
        "\n",
        "print (\"Objective\", value(prob3.objective))\n",
        "print (\"\")"
      ],
      "metadata": {
        "colab": {
          "base_uri": "https://localhost:8080/"
        },
        "id": "fcwc-TEKkqd7",
        "outputId": "2a0c8ea1-4b4a-40cc-c28a-7221fc95153e"
      },
      "execution_count": 12,
      "outputs": [
        {
          "output_type": "stream",
          "name": "stdout",
          "text": [
            "Status: Optimal\n",
            "day1_fast = 9.0\n",
            "day1_purchased = 15.0\n",
            "day1_slow = 6.0\n",
            "day2_fast = 12.0\n",
            "day2_purchased = 3.0\n",
            "day2_slow = 0.0\n",
            "day3_fast = 6.0\n",
            "day3_purchased = 0.0\n",
            "day4_purchased = 0.0\n",
            "Objective 6.66\n",
            "\n"
          ]
        }
      ]
    }
  ]
}