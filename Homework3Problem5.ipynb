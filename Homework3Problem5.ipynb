{
  "nbformat": 4,
  "nbformat_minor": 0,
  "metadata": {
    "colab": {
      "name": "Homework3Problem5.ipynb",
      "provenance": [],
      "collapsed_sections": [],
      "authorship_tag": "ABX9TyOmb+k9nENF1gioDUuTMjne",
      "include_colab_link": true
    },
    "kernelspec": {
      "name": "python3",
      "display_name": "Python 3"
    },
    "language_info": {
      "name": "python"
    }
  },
  "cells": [
    {
      "cell_type": "markdown",
      "metadata": {
        "id": "view-in-github",
        "colab_type": "text"
      },
      "source": [
        "<a href=\"https://colab.research.google.com/github/Rachhh53/MSDS-460-Decision-Analytics/blob/main/Homework3Problem5.ipynb\" target=\"_parent\"><img src=\"https://colab.research.google.com/assets/colab-badge.svg\" alt=\"Open In Colab\"/></a>"
      ]
    },
    {
      "cell_type": "code",
      "execution_count": 11,
      "metadata": {
        "id": "rLmCbL86SlLj"
      },
      "outputs": [],
      "source": [
        "import numpy as np\n",
        "from sklearn.linear_model import LinearRegression\n",
        "from sklearn.preprocessing import PolynomialFeatures\n",
        "from matplotlib import pyplot as plt\n",
        "import seaborn as sns"
      ]
    },
    {
      "cell_type": "code",
      "source": [
        "# regressors (input)\n",
        "# reshape to create 2 dimensions\n",
        "x = np.array([40, 44, 48, 48, 60, 70, 72, 90, 100, 168]).reshape((-1, 1))\n",
        "# predictor (output)\n",
        "y = [5958, 6662, 6004, 6011, 7250, 8632, 6964, 11097, 9107, 11498]"
      ],
      "metadata": {
        "id": "KH2_oDR5Soff"
      },
      "execution_count": 2,
      "outputs": []
    },
    {
      "cell_type": "code",
      "source": [
        "model = LinearRegression()\n",
        "\n",
        "model.fit(x, y)"
      ],
      "metadata": {
        "colab": {
          "base_uri": "https://localhost:8080/"
        },
        "id": "VpIkB8W0Sqmb",
        "outputId": "26a90d56-98a1-4c5f-dd07-9d9488465e7f"
      },
      "execution_count": 3,
      "outputs": [
        {
          "output_type": "execute_result",
          "data": {
            "text/plain": [
              "LinearRegression()"
            ]
          },
          "metadata": {},
          "execution_count": 3
        }
      ]
    },
    {
      "cell_type": "code",
      "source": [
        "r_sq = model.score(x, y)\n",
        "print('coefficient of determination: ', r_sq)\n",
        "print('intercept:', model.intercept_)\n",
        "print('slope:', model.coef_)"
      ],
      "metadata": {
        "colab": {
          "base_uri": "https://localhost:8080/"
        },
        "id": "VGpOB3BZSseg",
        "outputId": "ef8834e9-376b-4658-c551-2776e895f81e"
      },
      "execution_count": 4,
      "outputs": [
        {
          "output_type": "stream",
          "name": "stdout",
          "text": [
            "coefficient of determination:  0.762348502443266\n",
            "intercept: 4435.08375149343\n",
            "slope: [47.07048984]\n"
          ]
        }
      ]
    },
    {
      "cell_type": "code",
      "source": [
        "y_pred1 = model.predict(x)\n",
        "print('predicted response:', y_pred1, sep='\\n')"
      ],
      "metadata": {
        "colab": {
          "base_uri": "https://localhost:8080/"
        },
        "id": "uuNQjMssSuue",
        "outputId": "61dcf87a-9cc3-48ff-9302-828cfd8b75de"
      },
      "execution_count": 5,
      "outputs": [
        {
          "output_type": "stream",
          "name": "stdout",
          "text": [
            "predicted response:\n",
            "[ 6317.90334528  6506.18530466  6694.46726404  6694.46726404\n",
            "  7259.31314217  7730.01804062  7824.15902031  8671.42783751\n",
            "  9142.13273596 12342.9260454 ]\n"
          ]
        }
      ]
    },
    {
      "cell_type": "code",
      "source": [
        "plt.scatter(x, y,color='g')\n",
        "plt.plot(x, model.predict(x),color='k')\n",
        "\n",
        "plt.show()"
      ],
      "metadata": {
        "colab": {
          "base_uri": "https://localhost:8080/",
          "height": 265
        },
        "id": "id2y2RvETlkU",
        "outputId": "d9beef1b-caad-442e-f18e-0360a9bf84ba"
      },
      "execution_count": 9,
      "outputs": [
        {
          "output_type": "display_data",
          "data": {
            "image/png": "[encoded data removed]",
            "text/plain": [
              "<Figure size 432x288 with 1 Axes>"
            ]
          },
          "metadata": {
            "needs_background": "light"
          }
        }
      ]
    },
    {
      "cell_type": "code",
      "source": [
        "x2 = np.array([120]).reshape((-1, 1))\n",
        "y_pred2 = model.predict(x2)\n",
        "print('predicted response:', y_pred2, sep='\\n')"
      ],
      "metadata": {
        "colab": {
          "base_uri": "https://localhost:8080/"
        },
        "id": "o6yInKJaSwbB",
        "outputId": "efb8bba7-327f-47c4-c629-f2fdaa8b64f8"
      },
      "execution_count": 7,
      "outputs": [
        {
          "output_type": "stream",
          "name": "stdout",
          "text": [
            "predicted response:\n",
            "[10083.54253286]\n"
          ]
        }
      ]
    },
    {
      "cell_type": "markdown",
      "source": [
        "Polynomial Regression"
      ],
      "metadata": {
        "id": "nMzZZyEsVFtS"
      }
    },
    {
      "cell_type": "code",
      "source": [
        "transformer = PolynomialFeatures(degree=2, include_bias=False)"
      ],
      "metadata": {
        "id": "CewjD8RuVHYj"
      },
      "execution_count": 23,
      "outputs": []
    },
    {
      "cell_type": "markdown",
      "source": [
        "* degree is an integer (2 by default) that represents the degree of the \n",
        "polynomial regression function.\n",
        "* include_bias is a Boolean (True by default) that decides whether to include the bias (intercept) column of ones (True) or not (False)."
      ],
      "metadata": {
        "id": "K3VVrMVRVfWv"
      }
    },
    {
      "cell_type": "code",
      "source": [
        "transformer.fit(x)"
      ],
      "metadata": {
        "colab": {
          "base_uri": "https://localhost:8080/"
        },
        "id": "yTQSYMi8VX6p",
        "outputId": "afbd21ba-7a07-4b45-833e-e4d53d2b187a"
      },
      "execution_count": 24,
      "outputs": [
        {
          "output_type": "execute_result",
          "data": {
            "text/plain": [
              "PolynomialFeatures(include_bias=False)"
            ]
          },
          "metadata": {},
          "execution_count": 24
        }
      ]
    },
    {
      "cell_type": "code",
      "source": [
        "x_ = transformer.transform(x)\n",
        "print(x_)"
      ],
      "metadata": {
        "colab": {
          "base_uri": "https://localhost:8080/"
        },
        "id": "SaSkSjWCVy9x",
        "outputId": "40777045-26bf-454f-92fb-8e9494dcaaea"
      },
      "execution_count": 25,
      "outputs": [
        {
          "output_type": "stream",
          "name": "stdout",
          "text": [
            "[[   40.  1600.]\n",
            " [   44.  1936.]\n",
            " [   48.  2304.]\n",
            " [   48.  2304.]\n",
            " [   60.  3600.]\n",
            " [   70.  4900.]\n",
            " [   72.  5184.]\n",
            " [   90.  8100.]\n",
            " [  100. 10000.]\n",
            " [  168. 28224.]]\n"
          ]
        }
      ]
    },
    {
      "cell_type": "code",
      "source": [
        "model2 = LinearRegression().fit(x_, y)"
      ],
      "metadata": {
        "id": "fVqCLHtnWKd7"
      },
      "execution_count": 26,
      "outputs": []
    },
    {
      "cell_type": "code",
      "source": [
        "r_sq = model.score(x_, y)\n",
        "print('coefficient of determination:', r_sq)\n",
        "print('intercept:', model.intercept_)\n",
        "print('coefficients:', model.coef_)"
      ],
      "metadata": {
        "colab": {
          "base_uri": "https://localhost:8080/"
        },
        "id": "X1osV3FnWNd_",
        "outputId": "7c8ab59b-27c0-428f-f584-e23f3358502c"
      },
      "execution_count": 27,
      "outputs": [
        {
          "output_type": "stream",
          "name": "stdout",
          "text": [
            "coefficient of determination: 0.8383447911707282\n",
            "intercept: 1401.6616629605633\n",
            "coefficients: [121.84411849  -0.36680162]\n"
          ]
        }
      ]
    },
    {
      "cell_type": "code",
      "source": [
        "y_pred2 = model2.predict(x_)\n",
        "print('predicted response:', y_pred2, sep='\\n')"
      ],
      "metadata": {
        "colab": {
          "base_uri": "https://localhost:8080/"
        },
        "id": "eb-19i3IWiAI",
        "outputId": "c4d7247e-2cc5-45d4-cd48-c8c8ba947738"
      },
      "execution_count": 29,
      "outputs": [
        {
          "output_type": "stream",
          "name": "stdout",
          "text": [
            "predicted response:\n",
            "[ 5688.54380332  6052.67493146  6405.0684076   6405.0684076\n",
            "  7391.82292415  8133.42199722  8272.93857285  9396.53916869\n",
            "  9918.05726709 11518.86452002]\n"
          ]
        }
      ]
    },
    {
      "cell_type": "code",
      "source": [
        "plt.plot(x_[:,1],model.predict(x_),'-r')"
      ],
      "metadata": {
        "colab": {
          "base_uri": "https://localhost:8080/",
          "height": 283
        },
        "id": "UpoifAacYUCP",
        "outputId": "cda47c6a-2570-4db4-9296-df259f02b655"
      },
      "execution_count": 46,
      "outputs": [
        {
          "output_type": "execute_result",
          "data": {
            "text/plain": [
              "[<matplotlib.lines.Line2D at 0x7f2a6bf540d0>]"
            ]
          },
          "metadata": {},
          "execution_count": 46
        },
        {
          "output_type": "display_data",
          "data": {
            "image/png": "[encoded data removed]",
            "text/plain": [
              "<Figure size 432x288 with 1 Axes>"
            ]
          },
          "metadata": {
            "needs_background": "light"
          }
        }
      ]
    },
    {
      "cell_type": "code",
      "source": [
        "x3 = transformer.transform(x2)"
      ],
      "metadata": {
        "id": "nlrTAVxgX2jk"
      },
      "execution_count": 38,
      "outputs": []
    },
    {
      "cell_type": "code",
      "source": [
        "y_pred3 = model.predict(x3)\n",
        "print('predicted response: ', y_pred3)"
      ],
      "metadata": {
        "colab": {
          "base_uri": "https://localhost:8080/"
        },
        "id": "f0mgSTgYXfPM",
        "outputId": "3b180149-e3c8-4acd-f47c-c8a809607b7d"
      },
      "execution_count": 39,
      "outputs": [
        {
          "output_type": "stream",
          "name": "stdout",
          "text": [
            "predicted response:  [10741.0124892]\n"
          ]
        }
      ]
    }
  ]
}