{
  "nbformat": 4,
  "nbformat_minor": 0,
  "metadata": {
    "colab": {
      "name": "DiscussionBoardMod4.ipynb",
      "provenance": [],
      "collapsed_sections": [],
      "authorship_tag": "ABX9TyNjISEbnj2aeSA8GWTYctyY",
      "include_colab_link": true
    },
    "kernelspec": {
      "name": "python3",
      "display_name": "Python 3"
    },
    "language_info": {
      "name": "python"
    }
  },
  "cells": [
    {
      "cell_type": "markdown",
      "metadata": {
        "id": "view-in-github",
        "colab_type": "text"
      },
      "source": [
        "<a href=\"https://colab.research.google.com/github/Rachhh53/MSDS-460/blob/main/DiscussionBoardMod4.ipynb\" target=\"_parent\"><img src=\"https://colab.research.google.com/assets/colab-badge.svg\" alt=\"Open In Colab\"/></a>"
      ]
    },
    {
      "cell_type": "code",
      "execution_count": 1,
      "metadata": {
        "colab": {
          "base_uri": "https://localhost:8080/"
        },
        "id": "FQhdzCAfPlam",
        "outputId": "5f7649ee-8792-4d8e-a3c3-874385c39e51"
      },
      "outputs": [
        {
          "output_type": "stream",
          "name": "stdout",
          "text": [
            "Collecting pulp\n",
            "  Downloading PuLP-2.6.0-py3-none-any.whl (14.2 MB)\n",
            "\u001b[K     |████████████████████████████████| 14.2 MB 9.0 MB/s \n",
            "\u001b[?25hInstalling collected packages: pulp\n",
            "Successfully installed pulp-2.6.0\n"
          ]
        }
      ],
      "source": [
        "pip install pulp"
      ]
    },
    {
      "cell_type": "code",
      "source": [
        "!apt-get install -y -qq glpk-utils"
      ],
      "metadata": {
        "colab": {
          "base_uri": "https://localhost:8080/"
        },
        "id": "-Ty3rStsPnQ3",
        "outputId": "b06db750-5cd7-4275-a7da-8d881a3349d0"
      },
      "execution_count": 2,
      "outputs": [
        {
          "output_type": "stream",
          "name": "stdout",
          "text": [
            "Selecting previously unselected package libsuitesparseconfig5:amd64.\n",
            "(Reading database ... 155229 files and directories currently installed.)\n",
            "Preparing to unpack .../libsuitesparseconfig5_1%3a5.1.2-2_amd64.deb ...\n",
            "Unpacking libsuitesparseconfig5:amd64 (1:5.1.2-2) ...\n",
            "Selecting previously unselected package libamd2:amd64.\n",
            "Preparing to unpack .../libamd2_1%3a5.1.2-2_amd64.deb ...\n",
            "Unpacking libamd2:amd64 (1:5.1.2-2) ...\n",
            "Selecting previously unselected package libcolamd2:amd64.\n",
            "Preparing to unpack .../libcolamd2_1%3a5.1.2-2_amd64.deb ...\n",
            "Unpacking libcolamd2:amd64 (1:5.1.2-2) ...\n",
            "Selecting previously unselected package libglpk40:amd64.\n",
            "Preparing to unpack .../libglpk40_4.65-1_amd64.deb ...\n",
            "Unpacking libglpk40:amd64 (4.65-1) ...\n",
            "Selecting previously unselected package glpk-utils.\n",
            "Preparing to unpack .../glpk-utils_4.65-1_amd64.deb ...\n",
            "Unpacking glpk-utils (4.65-1) ...\n",
            "Setting up libsuitesparseconfig5:amd64 (1:5.1.2-2) ...\n",
            "Setting up libcolamd2:amd64 (1:5.1.2-2) ...\n",
            "Setting up libamd2:amd64 (1:5.1.2-2) ...\n",
            "Setting up libglpk40:amd64 (4.65-1) ...\n",
            "Setting up glpk-utils (4.65-1) ...\n",
            "Processing triggers for libc-bin (2.27-3ubuntu1.3) ...\n",
            "/sbin/ldconfig.real: /usr/local/lib/python3.7/dist-packages/ideep4py/lib/libmkldnn.so.0 is not a symbolic link\n",
            "\n",
            "Processing triggers for man-db (2.8.3-2ubuntu0.1) ...\n"
          ]
        }
      ]
    },
    {
      "cell_type": "code",
      "source": [
        "from pulp import LpVariable, LpProblem, LpMaximize, LpStatus, value, LpMinimize, GLPK"
      ],
      "metadata": {
        "id": "sXSHzCzzPqc6"
      },
      "execution_count": 3,
      "outputs": []
    },
    {
      "cell_type": "markdown",
      "source": [
        "# Mod 4 DiscussionBoard"
      ],
      "metadata": {
        "id": "Szw4RjqDQDRe"
      }
    },
    {
      "cell_type": "code",
      "source": [
        "# define variables\n",
        "NB = LpVariable(\"NB\", 0, None) # Newark to Boston\n",
        "BC = LpVariable(\"BC\", 0, None) # Boston to Columbus\n",
        "CA = LpVariable(\"CA\", 0, None) # Columbus to Atlanta\n",
        "AC = LpVariable(\"AC\", 0, None) # Atlanta to Columbus\n",
        "AM = LpVariable(\"AM\", 0, None) # Atlanta to Mobile\n",
        "MA = LpVariable(\"MA\", 0, None) # Mobile to Atlanta\n",
        "JR = LpVariable(\"JR\", 0, None) # Jacksonville to Richmond\n",
        "NR = LpVariable(\"NR\", 0, None) # Newark to Richmond\n",
        "AR = LpVariable(\"AR\", 0, None) # Atlanta to Richmond\n",
        "JA = LpVariable(\"JA\", 0, None) # Jacksonville to Atlanta\n",
        "JM = LpVariable(\"JM\", 0, None) # Jacksonville to Mobile"
      ],
      "metadata": {
        "id": "hQZCXS2wPrJQ"
      },
      "execution_count": 95,
      "outputs": []
    },
    {
      "cell_type": "code",
      "source": [
        "# defines the problem\n",
        "prob4 = LpProblem(\"problem\", LpMinimize)"
      ],
      "metadata": {
        "id": "ZTO92T7wQHYF"
      },
      "execution_count": 96,
      "outputs": []
    },
    {
      "cell_type": "code",
      "source": [
        "# define constraints\n",
        "prob4 += NB == 100\n",
        "prob4 += BC+AC-CA == 60\n",
        "prob4 += CA+MA+JA-AC-AM-AR == 170\n",
        "prob4 += AM+JM-MA == 70\n",
        "prob4 += AR+NR+JR == 80\n",
        "prob4 += NB+NR <= 200\n",
        "prob4 += JR+JA+JM <= 300"
      ],
      "metadata": {
        "id": "thg35gcFQJCa"
      },
      "execution_count": 97,
      "outputs": []
    },
    {
      "cell_type": "code",
      "source": [
        "# define objective function\n",
        "prob4 += 30*NB+50*BC+35*CA+40*AC+35*AM+25*MA+30*AR+40*NR+50*JR+45*JA+50*JM"
      ],
      "metadata": {
        "id": "xajuL-2QQL11"
      },
      "execution_count": 98,
      "outputs": []
    },
    {
      "cell_type": "code",
      "source": [
        "# solve the problem\n",
        "prob4.writeLP(\"prob4.lp\")\n",
        "prob4.solve(GLPK(options=['--ranges', 'prob4.sen']))\n",
        "print (\"Status:\", LpStatus[prob4.status])"
      ],
      "metadata": {
        "colab": {
          "base_uri": "https://localhost:8080/"
        },
        "id": "e8ZjgDvIQNh7",
        "outputId": "8e329f6d-d9b3-4dbf-80fa-bb15dc829f2f"
      },
      "execution_count": 99,
      "outputs": [
        {
          "output_type": "stream",
          "name": "stdout",
          "text": [
            "Status: Optimal\n"
          ]
        }
      ]
    },
    {
      "cell_type": "code",
      "source": [
        "# Note, we are only able to get sensitivity information because we are solving\n",
        "# as a linear program.  If we solved as an Integer Program, then no \n",
        "# sensitivity information would be available.\n",
        "\n",
        "for v in prob4.variables():\n",
        "    print(v.name, \"=\", v.varValue)\n",
        "\n",
        "print (\"Objective\", value(prob4.objective))\n",
        "print (\"\")"
      ],
      "metadata": {
        "colab": {
          "base_uri": "https://localhost:8080/"
        },
        "id": "doFQ3pXSQQoN",
        "outputId": "9d015ea3-75aa-4568-ac33-af07155670ed"
      },
      "execution_count": 100,
      "outputs": [
        {
          "output_type": "stream",
          "name": "stdout",
          "text": [
            "AC = 0.0\n",
            "AM = 0.0\n",
            "AR = 0.0\n",
            "BC = 60.0\n",
            "CA = 0.0\n",
            "JA = 170.0\n",
            "JM = 70.0\n",
            "JR = 0.0\n",
            "MA = 0.0\n",
            "NB = 100.0\n",
            "NR = 80.0\n",
            "Objective 20350.0\n",
            "\n"
          ]
        }
      ]
    }
  ]
}